{
 "cells": [
  {
   "cell_type": "code",
   "execution_count": 2,
   "id": "d52c04c0-80cd-4136-abb5-bf3e07589518",
   "metadata": {},
   "outputs": [],
   "source": [
    "import requests\n",
    "from bs4 import BeautifulSoup\n",
    "\n",
    "from tqdm import tqdm"
   ]
  },
  {
   "cell_type": "code",
   "execution_count": 5,
   "id": "428f609e-69cd-491d-aeb8-61525db967e2",
   "metadata": {},
   "outputs": [],
   "source": [
    "URL = \"https://sites.science.oregonstate.edu/~landaur/Books/CPbook/eBook/Codes/PythonCodes/\"\n",
    "\n",
    "r = requests.get(URL)\n",
    "\n",
    "soup = BeautifulSoup(r.content, 'html.parser')"
   ]
  },
  {
   "cell_type": "code",
   "execution_count": 10,
   "id": "6f92a86e-a1bd-4da3-a47d-8235e4dda73d",
   "metadata": {},
   "outputs": [
    {
     "data": {
      "text/plain": [
       "257"
      ]
     },
     "execution_count": 10,
     "metadata": {},
     "output_type": "execute_result"
    }
   ],
   "source": [
    "links = soup.find_all('a')\n",
    "len(links)"
   ]
  },
  {
   "cell_type": "code",
   "execution_count": 12,
   "id": "055c8c50-16c1-46bf-831a-17be80af8f00",
   "metadata": {},
   "outputs": [
    {
     "data": {
      "text/plain": [
       "248"
      ]
     },
     "execution_count": 12,
     "metadata": {},
     "output_type": "execute_result"
    }
   ],
   "source": [
    "filenames = [str(link.get('href')) for link in links]\n",
    "filenames = [fn for fn in filenames if all([sym not in fn for sym in ['?', '/']])]\n",
    "len(filenames)"
   ]
  },
  {
   "cell_type": "code",
   "execution_count": 13,
   "id": "51b8179b-8a84-480b-b7c0-fb4b232ea2d5",
   "metadata": {},
   "outputs": [
    {
     "name": "stderr",
     "output_type": "stream",
     "text": [
      "100%|██████████| 248/248 [05:32<00:00,  1.34s/it]\n"
     ]
    }
   ],
   "source": [
    "for name in tqdm(filenames):\n",
    "    file_url = URL + name\n",
    "    \n",
    "    r = requests.get(file_url)\n",
    "    \n",
    "    with open(name, 'wb') as f:\n",
    "        f.write(r.content)"
   ]
  },
  {
   "cell_type": "code",
   "execution_count": 21,
   "id": "dcbee77f-7106-471e-b0c1-14d3afb09d12",
   "metadata": {},
   "outputs": [],
   "source": [
    "URL_viz = URL + 'Fractals/'\n",
    "\n",
    "r = requests.get(URL_viz)\n",
    "\n",
    "soup = BeautifulSoup(r.content, 'html.parser')"
   ]
  },
  {
   "cell_type": "code",
   "execution_count": 22,
   "id": "f6a24fbc-db7c-464e-a74a-92ffcbd51d10",
   "metadata": {},
   "outputs": [
    {
     "data": {
      "text/plain": [
       "20"
      ]
     },
     "execution_count": 22,
     "metadata": {},
     "output_type": "execute_result"
    }
   ],
   "source": [
    "links = soup.find_all('a')\n",
    "len(links)"
   ]
  },
  {
   "cell_type": "code",
   "execution_count": 23,
   "id": "7afcf6f1-914b-4b5f-b1ac-4f3ceb406635",
   "metadata": {},
   "outputs": [
    {
     "data": {
      "text/plain": [
       "16"
      ]
     },
     "execution_count": 23,
     "metadata": {},
     "output_type": "execute_result"
    }
   ],
   "source": [
    "filenames = [str(link.get('href')) for link in links]\n",
    "filenames = [fn for fn in filenames if all([sym not in fn for sym in ['?', '/']])]\n",
    "len(filenames)"
   ]
  },
  {
   "cell_type": "code",
   "execution_count": 24,
   "id": "bd2cfbd8-f2ba-49d2-a94c-1481cf2a9c02",
   "metadata": {},
   "outputs": [
    {
     "name": "stderr",
     "output_type": "stream",
     "text": [
      "100%|██████████| 16/16 [00:22<00:00,  1.38s/it]\n"
     ]
    }
   ],
   "source": [
    "for name in tqdm(filenames):\n",
    "    file_url = URL + name\n",
    "    \n",
    "    r = requests.get(file_url)\n",
    "    \n",
    "    fn = 'Fractals/' + name\n",
    "    with open(fn, 'wb') as f:\n",
    "        f.write(r.content)"
   ]
  },
  {
   "cell_type": "code",
   "execution_count": null,
   "id": "4f5a2e4b-0de1-4504-9878-b28b2a2d3588",
   "metadata": {},
   "outputs": [],
   "source": []
  }
 ],
 "metadata": {
  "kernelspec": {
   "display_name": "Python 3 (ipykernel)",
   "language": "python",
   "name": "python3"
  },
  "language_info": {
   "codemirror_mode": {
    "name": "ipython",
    "version": 3
   },
   "file_extension": ".py",
   "mimetype": "text/x-python",
   "name": "python",
   "nbconvert_exporter": "python",
   "pygments_lexer": "ipython3",
   "version": "3.8.5"
  }
 },
 "nbformat": 4,
 "nbformat_minor": 5
}
